{
 "cells": [
  {
   "cell_type": "code",
   "execution_count": null,
   "id": "1d6325ce",
   "metadata": {},
   "outputs": [],
   "source": [
    "# Q1:\n",
    "#     Abstraction is a technique of hiding unnecessary details from the user. The user is only given access to the details \n",
    "#     that are relevant. Vehicle operations or ATM operations are classic examples of abstractions in the real world."
   ]
  },
  {
   "cell_type": "code",
   "execution_count": null,
   "id": "95085116",
   "metadata": {},
   "outputs": [],
   "source": [
    "# Q2:\n",
    "# Abstraction:\n",
    "#     abstractin work on the design level, it is implemented to hide the unnecessary data and withdrawing relevent data, \n",
    "#     it highlights what is the work of the object instead of how the object works.\n",
    "#     example:\n",
    "#          For example, when we are driving a car, we are only concerned about driving the car like start/stop the car, \n",
    "#          accelerate/ break, etc.\n",
    "    \n",
    "# Encapsulation:\n",
    "#     it work on the application level , it is the mechanism of hiding the code and data together from user due to chance of \n",
    "#     misuse. it focus on the inner details of how the object works. Modifications can be done later to the settings. \n",
    "    \n",
    "#     example:\n",
    "#          As a driver you know how to start the car by pressing the start button and internal details of the starting operations\n",
    "#          are hidden from you. "
   ]
  },
  {
   "cell_type": "code",
   "execution_count": null,
   "id": "ed1e486b",
   "metadata": {},
   "outputs": [],
   "source": [
    "# Q3:\n",
    "# The 'abc' module in the Python library .This module provides the infrastructure for defining abstract base classes (ABCs) \n",
    "# in Python.Abstract class cannot be instantiated in python. An Abstract method can be call by its subclasses. "
   ]
  },
  {
   "cell_type": "code",
   "execution_count": null,
   "id": "038ffa4b",
   "metadata": {},
   "outputs": [],
   "source": [
    "# Q4:\n",
    "# Data abstraction is a key characteristic of OOP that's implemented using classes and objects. A class is a template definition\n",
    "# that bundles related attributes and methods into a named package. It is a special type of object that serves as a blueprint for\n",
    "# creating other objects.\n",
    "# In Python, abstraction can be achieved by having/using abstract classes and methods in our programs. Understanding Abstract \n",
    "# Methods and Classes: An abstract method is a method that is declared, but does not contain implementation."
   ]
  },
  {
   "cell_type": "code",
   "execution_count": null,
   "id": "8a46a341",
   "metadata": {},
   "outputs": [],
   "source": [
    "# Q5:\n",
    "#     No we cannot creat an intance of an abstract class because it's abstract and an object is concrete.\n",
    "# An abstract class is sort of like a template, or an empty/partially empty structure, you have to extend it \n",
    "# and build on it before you can use it. abstract class has a protected constructor (by default) allowing derived\n",
    "# types to initialize it."
   ]
  },
  {
   "cell_type": "code",
   "execution_count": null,
   "id": "bde916fb",
   "metadata": {},
   "outputs": [],
   "source": []
  }
 ],
 "metadata": {
  "kernelspec": {
   "display_name": "Python 3 (ipykernel)",
   "language": "python",
   "name": "python3"
  },
  "language_info": {
   "codemirror_mode": {
    "name": "ipython",
    "version": 3
   },
   "file_extension": ".py",
   "mimetype": "text/x-python",
   "name": "python",
   "nbconvert_exporter": "python",
   "pygments_lexer": "ipython3",
   "version": "3.9.13"
  }
 },
 "nbformat": 4,
 "nbformat_minor": 5
}
