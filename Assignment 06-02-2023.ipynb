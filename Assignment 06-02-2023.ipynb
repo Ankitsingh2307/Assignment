{
 "cells": [
  {
   "cell_type": "code",
   "execution_count": 70,
   "id": "63e3c375",
   "metadata": {},
   "outputs": [],
   "source": [
    "# Q1:\n",
    "list1 = [1,2,3,4, [44,55,66, True], False, (34,56,78,89,34), {1,2,3,3,2,1}, {1:34, \"key2\": [55, 67, 78, 89], 4: (45,\n",
    "22, 61, 34)}, [56, 'data science'], 'Machine Learning']\n",
    "\n"
   ]
  },
  {
   "cell_type": "code",
   "execution_count": 102,
   "id": "8ce01353",
   "metadata": {},
   "outputs": [],
   "source": [
    "from functools import  reduce\n",
    "\n",
    "l1= []\n",
    "def list_int(a):\n",
    "    for i in a:\n",
    "        if type(i) ==list:\n",
    "            for j in i:\n",
    "                if type(j)== int:\n",
    "                    l1.append(j)\n",
    "        elif type(i) ==tuple:\n",
    "            for k in i:\n",
    "                if type(k) == int:\n",
    "                    l1.append(k)\n",
    "        elif type(i) ==set:\n",
    "            for l in i:\n",
    "                if type(l) == int:\n",
    "                    l1.append(l)\n",
    "        elif type(i)== dict:\n",
    "            for m in i:\n",
    "                if type(m)==int:\n",
    "                    l1.append(m)\n",
    "            mylist= list(i.values())\n",
    "            for i in mylist:\n",
    "                if type(i)==list:\n",
    "                    for j in i:\n",
    "                        if type(j)==int:\n",
    "                            l1.append(j)\n",
    "                if type(i)==tuple:\n",
    "                    for k in i:\n",
    "                        if type(k)==int:\n",
    "                            l1.append(k)                      \n",
    "        else:\n",
    "            if type(i)==int:\n",
    "                l1.append(i)\n",
    "    print('flat list:=',l1)\n",
    "    print(\"\\n The product of all the number in flat list\")\n",
    "    product= reduce(lambda x,y: x*y,l1)\n",
    "    print(product)"
   ]
  },
  {
   "cell_type": "code",
   "execution_count": 103,
   "id": "b1ebdfa4",
   "metadata": {},
   "outputs": [
    {
     "name": "stdout",
     "output_type": "stream",
     "text": [
      "flat list:= [1, 2, 3, 4, 44, 55, 66, 34, 56, 78, 89, 34, 1, 2, 3, 1, 4, 55, 67, 78, 89, 45, 22, 61, 34, 56]\n",
      "\n",
      " The product of all the number in flat list\n",
      "121609171734914278789230624768000\n"
     ]
    }
   ],
   "source": [
    "list_int(list1)"
   ]
  },
  {
   "cell_type": "code",
   "execution_count": 152,
   "id": "4f94042f",
   "metadata": {},
   "outputs": [
    {
     "name": "stdout",
     "output_type": "stream",
     "text": [
      "Input Sentence: I want to become a Data Scientist\n",
      "\n",
      " The Encrypt Message: \n",
      "i$wznt$to$yexome$z$dztz$sxientist\n"
     ]
    }
   ],
   "source": [
    "\n",
    "# Q2:\n",
    "msg= input(\"Input Sentence: \")\n",
    "msg= msg.lower()\n",
    "encrypt_msg= ''\n",
    "\n",
    "for i in range(0, len(msg)):\n",
    "    if msg[i] == 'a':\n",
    "         encrypt_msg +='z'\n",
    "    elif msg[i]== 'b':\n",
    "        encrypt_msg+='y'\n",
    "    elif msg[i]== 'c':\n",
    "        encrypt_msg+='x'\n",
    "    elif msg[i]==\" \":\n",
    "        encrypt_msg+=\"$\"\n",
    "    else:\n",
    "        encrypt_msg+= msg[i]\n",
    "       \n",
    "print('\\n The Encrypt Message: ')\n",
    "print(encrypt_msg)\n",
    "            "
   ]
  },
  {
   "cell_type": "code",
   "execution_count": null,
   "id": "5638bf96",
   "metadata": {},
   "outputs": [],
   "source": []
  }
 ],
 "metadata": {
  "kernelspec": {
   "display_name": "Python 3 (ipykernel)",
   "language": "python",
   "name": "python3"
  },
  "language_info": {
   "codemirror_mode": {
    "name": "ipython",
    "version": 3
   },
   "file_extension": ".py",
   "mimetype": "text/x-python",
   "name": "python",
   "nbconvert_exporter": "python",
   "pygments_lexer": "ipython3",
   "version": "3.9.13"
  }
 },
 "nbformat": 4,
 "nbformat_minor": 5
}
