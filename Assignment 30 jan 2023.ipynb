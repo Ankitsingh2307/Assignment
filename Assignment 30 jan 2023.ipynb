{
 "cells": [
  {
   "cell_type": "markdown",
   "id": "09d370b3",
   "metadata": {},
   "source": [
    "# ASSIGNMENT  OF 30 JAN 2023"
   ]
  },
  {
   "cell_type": "code",
   "execution_count": 2,
   "id": "fcca0f33",
   "metadata": {},
   "outputs": [
    {
     "name": "stdout",
     "output_type": "stream",
     "text": [
      "Enter the marks obtain :90\n",
      "Grade: B\n"
     ]
    }
   ],
   "source": [
    "# Q.1:\n",
    "\n",
    "Marks= float(input(\"Enter the marks obtain :\"))\n",
    "\n",
    "a= Marks\n",
    "if a >90:\n",
    "    print(\"Grade: A\")\n",
    "elif a>80 and a<=90:\n",
    "    print(\"Grade: B\")\n",
    "elif a>=60 and a <=80:\n",
    "    print(\"Grade: C\")\n",
    "else:\n",
    "    print(\"Grade: D\")"
   ]
  },
  {
   "cell_type": "code",
   "execution_count": 5,
   "id": "a58d2e4a",
   "metadata": {},
   "outputs": [
    {
     "name": "stdout",
     "output_type": "stream",
     "text": [
      "Enter the marks obtain :99999\n",
      "Road tax : 10%\n"
     ]
    }
   ],
   "source": [
    "#2:\n",
    "Bike_price= float(input(\"Enter the marks obtain :\"))\n",
    "\n",
    "a= Bike_price\n",
    "if a >100000:\n",
    "    print(\"Road tax : 15%\")\n",
    "if a> 50000 and a<=100000:\n",
    "    print(\"Road tax : 10%\")\n",
    "else:\n",
    "    print(\"Road tax : 5%\")"
   ]
  },
  {
   "cell_type": "code",
   "execution_count": 49,
   "id": "9446c036",
   "metadata": {},
   "outputs": [
    {
     "name": "stdout",
     "output_type": "stream",
     "text": [
      "***Enter city= 1:Delhi , 2:Agra, 3:Jaipur***\n",
      "enter the Name of the City from the list to know the movement  city: 1\n",
      "Enter City not in the list\n"
     ]
    }
   ],
   "source": [
    "#Q3:\n",
    "print('*** Enter city= 1:Delhi , 2:Agra, 3:Jaipur ***')\n",
    "\n",
    "city = str(input(\"enter the Name of the City from the list to know the movement  city: \"\"\"))\n",
    "b = city\n",
    "if b == 'Delhi' or b== \"delhi\":\n",
    "    print('Monument: Red Fort')\n",
    "elif b== 'Agra' or b== \"agra\":\n",
    "    print('Monument: Taj Mahal')\n",
    "elif b== \"Jaipur\" or b== \"jaipur\":\n",
    "    print('Monument: Jal Mahal')\n",
    "else:  \n",
    "    print (\"Enter City not in the list\")"
   ]
  },
  {
   "cell_type": "code",
   "execution_count": 17,
   "id": "c7f4c951",
   "metadata": {},
   "outputs": [
    {
     "name": "stdout",
     "output_type": "stream",
     "text": [
      "enter the number : 300\n",
      "100.0\n",
      "33.333333333333336\n",
      "11.111111111111112\n",
      "the total no. of time the given number is divisibel \n",
      "3\n"
     ]
    }
   ],
   "source": [
    "#Q4:\n",
    "number= float(input(\"enter the number : \"))\n",
    "x=number\n",
    "y=3\n",
    "count = 0\n",
    "while True:\n",
    "    if x/y >= 10:\n",
    "        x= x/y\n",
    "        count +=1\n",
    "        print(x)\n",
    "    else:\n",
    "        break\n",
    "print(\"the total no. of time the given number is divisibel \")\n",
    "\n",
    "print(count)\n"
   ]
  },
  {
   "cell_type": "code",
   "execution_count": 3,
   "id": "a60f961b",
   "metadata": {},
   "outputs": [
    {
     "name": "stdout",
     "output_type": "stream",
     "text": [
      "0\n",
      "1\n",
      "2\n",
      "3\n",
      "4\n",
      "5\n",
      "6\n",
      "7\n",
      "8\n",
      "9\n",
      "10\n",
      "11\n",
      "12\n",
      "13\n",
      "14\n",
      "15\n",
      "16\n",
      "17\n",
      "18\n",
      "19\n",
      "20\n"
     ]
    },
    {
     "data": {
      "text/plain": [
       "'In the above pice of the code we had the condition that run the loop till the value of i become <=20, when the value of i \\nbecome 20 the loop stop itself as the condition get false'"
      ]
     },
     "execution_count": 3,
     "metadata": {},
     "output_type": "execute_result"
    }
   ],
   "source": [
    "#Q5\n",
    "'''while loop is use for making the code to execur till the condition\n",
    "is True if the condition get False the execution of while loop get stop, \n",
    "For example, if we want to ask a user for a number between 1 and 10,\n",
    "we don't know how many times the user may enter a larger number, \n",
    "so we keep asking \"while the number is not between 1 and 10'''\n",
    "#Example\n",
    "i=0\n",
    "while i<=20:\n",
    "    print(i)\n",
    "    i+=1\n",
    "    \n",
    "'''In the above pice of the code we had the condition that run the loop till the value of i become <=20, when the value of i \n",
    "become 20 the loop stop itself as the condition get false'''"
   ]
  },
  {
   "cell_type": "code",
   "execution_count": 124,
   "id": "710bcd43",
   "metadata": {},
   "outputs": [
    {
     "name": "stdout",
     "output_type": "stream",
     "text": [
      "value4\n",
      "0 0 0 0 0 0 \n",
      "0 4 8 12 16 20 \n",
      "0 8 16 24 32 40 \n",
      "0 12 24 36 48 60 \n",
      "\n"
     ]
    }
   ],
   "source": [
    "#Q6\n",
    "\n",
    "i = int(input(\"value\"))\n",
    "while i <= 4 :\n",
    "    j = 0\n",
    "    while  j <= 3 :\n",
    "        k = 0\n",
    "        while  k <= 5 :\n",
    "            print(i*j*k, end=\" \")\n",
    "            k += 1\n",
    "        print()\n",
    "        j += 1\n",
    "    print()\n",
    "    i += 1"
   ]
  },
  {
   "cell_type": "code",
   "execution_count": 1,
   "id": "c1724cc6",
   "metadata": {},
   "outputs": [
    {
     "name": "stdout",
     "output_type": "stream",
     "text": [
      "1 \n",
      "3 3 \n",
      "5 5 5 \n",
      "7 7 7 7 \n",
      "9 9 9 9 9 \n"
     ]
    }
   ],
   "source": [
    "rows = 5\n",
    "i = 1\n",
    "while i <= rows:\n",
    "    j = 1\n",
    "    while j <= i:\n",
    "        print((i * 2 - 1), end=\" \")\n",
    "        j = j + 1\n",
    "    i = i + 1\n",
    "    print('')"
   ]
  },
  {
   "cell_type": "code",
   "execution_count": 2,
   "id": "493ab6e2",
   "metadata": {},
   "outputs": [
    {
     "name": "stdout",
     "output_type": "stream",
     "text": [
      "Enter number of rows : 5\n",
      "* \n",
      "* * \n",
      "* * * \n",
      "* * * * \n",
      "* * * * * \n"
     ]
    }
   ],
   "source": [
    "n = int(input('Enter number of rows : '))\n",
    " \n",
    "i = 1\n",
    "while i <= n :\n",
    "    j = 1\n",
    "    while j <= i:\n",
    "        print(\"*\", end = \" \")\n",
    "        j += 1\n",
    "    print()\n",
    "    i += 1"
   ]
  },
  {
   "cell_type": "code",
   "execution_count": 3,
   "id": "f3711408",
   "metadata": {},
   "outputs": [
    {
     "name": "stdout",
     "output_type": "stream",
     "text": [
      "Enter number of rows : 5\n",
      "* * * * * \n",
      "* * * * \n",
      "* * * \n",
      "* * \n",
      "* \n"
     ]
    }
   ],
   "source": [
    "n = int(input('Enter number of rows : '))\n",
    " \n",
    "i = 1\n",
    "while i <= n :\n",
    "    j = n\n",
    "    while j >= i:\n",
    "        print(\"*\", end = \" \")\n",
    "        j -= 1\n",
    "    print()\n",
    "    i += 1"
   ]
  },
  {
   "cell_type": "code",
   "execution_count": 20,
   "id": "ea343fa7",
   "metadata": {},
   "outputs": [
    {
     "name": "stdout",
     "output_type": "stream",
     "text": [
      "[10, 9, 8, 7, 6, 5, 4, 3, 2, 1]\n"
     ]
    }
   ],
   "source": [
    "#Q7\n",
    "l=[1,2,3,4,5,6,7,8,9,10]\n",
    "\n",
    "l1=[]\n",
    "i=0\n",
    "while i<1:\n",
    "    l1.extend(l[::-1])\n",
    "    i+=1\n",
    "    print(l1)"
   ]
  },
  {
   "cell_type": "code",
   "execution_count": 21,
   "id": "bf57ae0f",
   "metadata": {},
   "outputs": [
    {
     "name": "stdout",
     "output_type": "stream",
     "text": [
      "[10, 9, 8, 7, 6, 5, 4, 3, 2, 1]\n"
     ]
    }
   ],
   "source": [
    "# Q8\n",
    "l=[1,2,3,4,5,6,7,8,9,10]\n",
    "\n",
    "l1=[]\n",
    "i=0\n",
    "while i<1:\n",
    "    l1.extend(l[::-1])\n",
    "    i+=1\n",
    "    print(l1)"
   ]
  },
  {
   "cell_type": "code",
   "execution_count": null,
   "id": "431a0627",
   "metadata": {},
   "outputs": [],
   "source": []
  },
  {
   "cell_type": "code",
   "execution_count": null,
   "id": "52180d0e",
   "metadata": {},
   "outputs": [],
   "source": []
  }
 ],
 "metadata": {
  "kernelspec": {
   "display_name": "Python 3 (ipykernel)",
   "language": "python",
   "name": "python3"
  },
  "language_info": {
   "codemirror_mode": {
    "name": "ipython",
    "version": 3
   },
   "file_extension": ".py",
   "mimetype": "text/x-python",
   "name": "python",
   "nbconvert_exporter": "python",
   "pygments_lexer": "ipython3",
   "version": "3.9.13"
  }
 },
 "nbformat": 4,
 "nbformat_minor": 5
}
