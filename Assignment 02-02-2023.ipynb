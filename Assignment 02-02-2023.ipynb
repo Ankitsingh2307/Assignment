{
 "cells": [
  {
   "cell_type": "markdown",
   "id": "ce93305d",
   "metadata": {},
   "source": [
    "# Assignment  02/02/2023\n"
   ]
  },
  {
   "cell_type": "code",
   "execution_count": 4,
   "id": "aac9de5b",
   "metadata": {},
   "outputs": [
    {
     "name": "stdout",
     "output_type": "stream",
     "text": [
      "range exampel\n",
      "0\n",
      "1\n",
      "2\n",
      "3\n",
      "4\n",
      "5\n",
      "6\n",
      "7\n",
      "8\n",
      "9\n",
      "list Exampel\n",
      "1\n",
      "2\n",
      "3\n",
      "4\n",
      "5\n",
      "6\n"
     ]
    }
   ],
   "source": [
    "# Q1\n",
    "'''For loop :\n",
    "    for loop is use when we want to repeat the block of code for fix number of time for loop is use with the combination of\n",
    "    iterabel objectlike a list or a range.'''\n",
    "print('range exampel')\n",
    "for i in range(10):\n",
    "    print(i)\n",
    "print(\"list Exampel\")\n",
    "l=[1,2,3,4,5,6]\n",
    "for i in l:\n",
    "    print(i)"
   ]
  },
  {
   "cell_type": "code",
   "execution_count": 8,
   "id": "88559c61",
   "metadata": {},
   "outputs": [
    {
     "name": "stdout",
     "output_type": "stream",
     "text": [
      "Exampel\n",
      "0\n",
      "1\n",
      "2\n",
      "3\n",
      "4\n",
      "5\n",
      "6\n",
      "7\n",
      "8\n",
      "9\n",
      "10\n"
     ]
    }
   ],
   "source": [
    "'''While loop:\n",
    "       the while loop is use when we want to rub the block of code to run for certain condition when the condition is true\n",
    "       the block of code will execute till the condition get false . when the condition get false the execution will stop''' \n",
    "print(\"Exampel\")\n",
    "\n",
    "i= 0\n",
    "while i <=10:\n",
    "    print(i)\n",
    "    i+=1"
   ]
  },
  {
   "cell_type": "code",
   "execution_count": 154,
   "id": "503ac4ab",
   "metadata": {},
   "outputs": [
    {
     "name": "stdout",
     "output_type": "stream",
     "text": [
      "Exampel of Sum using for loop\n",
      "55\n"
     ]
    }
   ],
   "source": [
    "# Q2\n",
    "print('Exampel of Sum using for loop')\n",
    "sum=0\n",
    "n=10\n",
    "for i in range(1, n+1):\n",
    "    sum = sum+i\n",
    "print(sum)"
   ]
  },
  {
   "cell_type": "code",
   "execution_count": 153,
   "id": "4c9a8e29",
   "metadata": {},
   "outputs": [
    {
     "name": "stdout",
     "output_type": "stream",
     "text": [
      "Exampel of Product using for loop\n",
      "3628800\n"
     ]
    }
   ],
   "source": [
    "print('Exampel of Product using for loop')\n",
    "product=1\n",
    "n=10\n",
    "for i in range(1, n+1):\n",
    "    product = product*i \n",
    "print(product)\n",
    "\n",
    "   "
   ]
  },
  {
   "cell_type": "code",
   "execution_count": 152,
   "id": "35210284",
   "metadata": {},
   "outputs": [
    {
     "name": "stdout",
     "output_type": "stream",
     "text": [
      "Exampel of Sum using while loop\n",
      "Sum of th first 10natural number is \n",
      "55\n"
     ]
    }
   ],
   "source": [
    "print(\"Exampel of Sum using while loop\")\n",
    "n=1\n",
    "sum= 0\n",
    "while n<=10:\n",
    "    \n",
    "    if n<=10:\n",
    "        sum= sum + n  \n",
    "    n+=1\n",
    "else:\n",
    "    print ('Sum of th first 10natural number is ')    \n",
    "print(sum)"
   ]
  },
  {
   "cell_type": "code",
   "execution_count": 151,
   "id": "833e2f5d",
   "metadata": {},
   "outputs": [
    {
     "name": "stdout",
     "output_type": "stream",
     "text": [
      "Exampel of Sum using while loop\n",
      "Product of th first 10 natural number is \n"
     ]
    },
    {
     "data": {
      "text/plain": [
       "3628800"
      ]
     },
     "execution_count": 151,
     "metadata": {},
     "output_type": "execute_result"
    }
   ],
   "source": [
    "print(\"Exampel of Sum using while loop\")\n",
    "n=1\n",
    "product=1 \n",
    "while n<=10:\n",
    "    \n",
    "    if n<=10:\n",
    "        product= product * n  \n",
    "    n+=1\n",
    "else:\n",
    "    print ('Product of th first 10 natural number is ')    \n",
    "product"
   ]
  },
  {
   "cell_type": "code",
   "execution_count": 127,
   "id": "132bf95d",
   "metadata": {},
   "outputs": [
    {
     "name": "stdout",
     "output_type": "stream",
     "text": [
      "Total unit consume by the user : -1\n",
      "negative value not accepted\n",
      "the total Bil to Pay: 0.0\n"
     ]
    }
   ],
   "source": [
    "# Q3\n",
    "unit= int(input(\"Total unit consume by the user : \"))\n",
    "if unit>=0:\n",
    "    if unit <=100:\n",
    "        bill= (unit)*4.5\n",
    "    elif unit<=200:\n",
    "        bill= (100*4.5)+ (unit-100)*6\n",
    "    elif unit<=300:\n",
    "        bill= (100*4.5)+(200-100)*6 + (unit-100)*10\n",
    "    elif unit >300:\n",
    "        bill= (100*4.5)+(200-100)*6 + (300-200)*10+ (unit-300)*20\n",
    "else:\n",
    "    print(\"negative value not accepted\")\n",
    "    \n",
    "print(\"the total Bil to Pay:\", bill)"
   ]
  },
  {
   "cell_type": "code",
   "execution_count": 156,
   "id": "5a5fb391",
   "metadata": {},
   "outputs": [
    {
     "data": {
      "text/plain": [
       "[8,\n",
       " 64,\n",
       " 125,\n",
       " 216,\n",
       " 512,\n",
       " 1000,\n",
       " 1728,\n",
       " 2744,\n",
       " 3375,\n",
       " 4096,\n",
       " 5832,\n",
       " 8000,\n",
       " 10648,\n",
       " 13824,\n",
       " 15625,\n",
       " 17576,\n",
       " 21952,\n",
       " 27000,\n",
       " 32768,\n",
       " 39304,\n",
       " 42875,\n",
       " 46656,\n",
       " 54872,\n",
       " 64000,\n",
       " 74088,\n",
       " 85184,\n",
       " 91125,\n",
       " 97336,\n",
       " 110592,\n",
       " 125000,\n",
       " 140608,\n",
       " 157464,\n",
       " 166375,\n",
       " 175616,\n",
       " 195112,\n",
       " 216000,\n",
       " 238328,\n",
       " 262144,\n",
       " 274625,\n",
       " 287496,\n",
       " 314432,\n",
       " 343000,\n",
       " 373248,\n",
       " 405224,\n",
       " 421875,\n",
       " 438976,\n",
       " 474552,\n",
       " 512000,\n",
       " 551368,\n",
       " 592704,\n",
       " 614125,\n",
       " 636056,\n",
       " 681472,\n",
       " 729000,\n",
       " 778688,\n",
       " 830584,\n",
       " 857375,\n",
       " 884736,\n",
       " 941192,\n",
       " 1000000]"
      ]
     },
     "execution_count": 156,
     "metadata": {},
     "output_type": "execute_result"
    }
   ],
   "source": [
    "#Q4\n",
    "l=list(range(1,101))\n",
    "l1=[]\n",
    "l2=[]\n",
    "for i  in l:\n",
    "    l1.append(i*i*i)\n",
    "for i in l1:\n",
    "    if i%4==0 or i%5==0:\n",
    "        l2.append(i)  \n",
    "l2"
   ]
  },
  {
   "cell_type": "code",
   "execution_count": 157,
   "id": "d63d4509",
   "metadata": {},
   "outputs": [
    {
     "data": {
      "text/plain": [
       "[8,\n",
       " 64,\n",
       " 125,\n",
       " 216,\n",
       " 512,\n",
       " 1000,\n",
       " 1728,\n",
       " 2744,\n",
       " 3375,\n",
       " 4096,\n",
       " 5832,\n",
       " 8000,\n",
       " 10648,\n",
       " 13824,\n",
       " 15625,\n",
       " 17576,\n",
       " 21952,\n",
       " 27000,\n",
       " 32768,\n",
       " 39304,\n",
       " 42875,\n",
       " 46656,\n",
       " 54872,\n",
       " 64000,\n",
       " 74088,\n",
       " 85184,\n",
       " 91125,\n",
       " 97336,\n",
       " 110592,\n",
       " 125000,\n",
       " 140608,\n",
       " 157464,\n",
       " 166375,\n",
       " 175616,\n",
       " 195112,\n",
       " 216000,\n",
       " 238328,\n",
       " 262144,\n",
       " 274625,\n",
       " 287496,\n",
       " 314432,\n",
       " 343000,\n",
       " 373248,\n",
       " 405224,\n",
       " 421875,\n",
       " 438976,\n",
       " 474552,\n",
       " 512000,\n",
       " 551368,\n",
       " 592704,\n",
       " 614125,\n",
       " 636056,\n",
       " 681472,\n",
       " 729000,\n",
       " 778688,\n",
       " 830584,\n",
       " 857375,\n",
       " 884736,\n",
       " 941192,\n",
       " 1000000]"
      ]
     },
     "execution_count": 157,
     "metadata": {},
     "output_type": "execute_result"
    }
   ],
   "source": [
    "#Q4\n",
    "l=list(range(0,101))\n",
    "l1=[]\n",
    "l2=[]\n",
    "while l[0]<=100:\n",
    "    l[0]+=1\n",
    "    l1.append(l[0]*l[0]*l[0])\n",
    "for i in l1:\n",
    "    if i%4==0 or i%5==0:\n",
    "        l2.append(i) \n",
    "l2\n"
   ]
  },
  {
   "cell_type": "code",
   "execution_count": 164,
   "id": "5eb38e62",
   "metadata": {},
   "outputs": [
    {
     "name": "stdout",
     "output_type": "stream",
     "text": [
      "total no. of the count: 11\n"
     ]
    }
   ],
   "source": [
    "#Q5\n",
    "string= \"I want to become a data scientist\"\n",
    "\n",
    "vowels= ['a','e','i','o','u']\n",
    "count=0\n",
    "for i in range(len(string)):\n",
    "    if string[i] in vowels:\n",
    "        count+=1\n",
    "print (\"total no. of the count:\", count)"
   ]
  },
  {
   "cell_type": "code",
   "execution_count": null,
   "id": "18687847",
   "metadata": {},
   "outputs": [],
   "source": []
  },
  {
   "cell_type": "code",
   "execution_count": null,
   "id": "1c9366cd",
   "metadata": {},
   "outputs": [],
   "source": []
  }
 ],
 "metadata": {
  "kernelspec": {
   "display_name": "Python 3 (ipykernel)",
   "language": "python",
   "name": "python3"
  },
  "language_info": {
   "codemirror_mode": {
    "name": "ipython",
    "version": 3
   },
   "file_extension": ".py",
   "mimetype": "text/x-python",
   "name": "python",
   "nbconvert_exporter": "python",
   "pygments_lexer": "ipython3",
   "version": "3.9.13"
  }
 },
 "nbformat": 4,
 "nbformat_minor": 5
}
