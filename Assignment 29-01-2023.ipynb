{
 "cells": [
  {
   "cell_type": "raw",
   "id": "5efa4d80",
   "metadata": {},
   "source": [
    "Q:1 who developed python programming language?\n",
    "ans: Guido van Rossum"
   ]
  },
  {
   "cell_type": "raw",
   "id": "f5d055d3",
   "metadata": {},
   "source": [
    "Q2: Which type of programming does python support?\n",
    "ans: object-oriented programming as well as procedural-oriented programming."
   ]
  },
  {
   "cell_type": "raw",
   "id": "e7a3ddbc",
   "metadata": {},
   "source": [
    "Q3: Is python case sensitive when dealing with identifier?\n",
    "ans: yes"
   ]
  },
  {
   "cell_type": "raw",
   "id": "5825d042",
   "metadata": {},
   "source": [
    "Q4: what is the correct extension of the python file?\n",
    "ans .py"
   ]
  },
  {
   "cell_type": "raw",
   "id": "7704ed61",
   "metadata": {},
   "source": [
    "Q5 : is python code compiled or interpreted?\n",
    "ans: yes it is the interpreted"
   ]
  },
  {
   "cell_type": "raw",
   "id": "d2abcfe2",
   "metadata": {},
   "source": [
    "Q6: Name few block of the code used to define in python language?\n",
    "ans: module , function body and class defination."
   ]
  },
  {
   "cell_type": "raw",
   "id": "6e2ff845",
   "metadata": {},
   "source": [
    "Q7: State a character used to give singlr line comments in python?\n",
    "ans: # is use for single line comment\n"
   ]
  },
  {
   "cell_type": "raw",
   "id": "9ce5d77b",
   "metadata": {},
   "source": [
    "Q8: Mwntion function which can help us to find the version of pythopn that we are currently working on it?\n",
    "ans: from platform import python_version\n",
    "     print(python_version())\n"
   ]
  },
  {
   "cell_type": "raw",
   "id": "9afe6ddb",
   "metadata": {},
   "source": [
    "Q9: Python Supports the creation of anonymous function at runtime , using construct called\n",
    "ans: lambda function"
   ]
  },
  {
   "cell_type": "raw",
   "id": "369d75d6",
   "metadata": {},
   "source": [
    "Q10: what does pip stand for python?\n",
    "ans: preferred inastaller program"
   ]
  },
  {
   "cell_type": "raw",
   "id": "762a119c",
   "metadata": {},
   "source": [
    "Q11: Mention a few build-in function in python?\n",
    "ans sum(), count(), append(), extend(), print(), type()"
   ]
  },
  {
   "cell_type": "raw",
   "id": "d4fc344c",
   "metadata": {},
   "source": [
    "Q12: What is the Maximum possible length of an identifier in python?\n",
    "ans: Python identifiers are unlimited in length\" but as per PEP-8 you should limit identifier to a maximum of 79 character for        better readability but there is no restriction."
   ]
  },
  {
   "cell_type": "raw",
   "id": "b462a1b7",
   "metadata": {},
   "source": [
    "Q13: What are the benefits of using Python?\n",
    "ans: Simple to Use and Understand, Free and Open-Source, Interpreted Language,Extensive library, Dynamically Typed, Supportive community."
   ]
  },
  {
   "cell_type": "raw",
   "id": "b5ad9417",
   "metadata": {},
   "source": [
    "Q14: How is the memory manage in python?\n",
    "ans: Python uses the dynamic memory allocation which is managed by the Heap data structure."
   ]
  },
  {
   "cell_type": "raw",
   "id": "6889c180",
   "metadata": {},
   "source": [
    "Q15: How to install Python on Windows and set path variabels?\n",
    "ans:  "
   ]
  },
  {
   "cell_type": "raw",
   "id": "ba9b20bb",
   "metadata": {},
   "source": [
    "ans:  Method 1: Install a Recent Version of Python\n",
    "You can easily add Python to Windows path by downloading a recent version of Python, and then checking the box to Add Python to PATH at the bottom of the setup screen:\n",
    "\n",
    " Add Python to PATH\n",
    "\n",
    "Finish the installation, and you should be good to go.\n",
    "\n",
    "Alternatively, you may manually add the paths into the Environment variables.\n",
    "\n",
    "Method 2: Manually add Python to Windows Path\n",
    "If you wish to stick with the previous version of Python, you may apply the steps below to manually add Python to Windows path.\n",
    "\n",
    "First, navigate to the Windows Environment Variables screen (where you can add/edit your paths):\n",
    "\n",
    "Press the Windows Key + R on your keyboard in order to open the Run dialog box\n",
    "Type sysdm.cpl to open the System Properties\n",
    "Go to the Advanced tab and then click on the ‘Environment Variables…‘\n",
    "That should take you to the Environment Variables screen, where you can add/edit your paths.\n",
    "\n",
    "Under the User variables box, click on ‘New…‘ to add the ‘Path’ variable (note that if your ‘Path’ variable already exists, then click on ‘Edit…’ instead):\n",
    "\n",
    "You should then see the New User Variable box, where you may add/edit variables:\n",
    "\n",
    "Before you type any values, you’ll need to locate the relevant Python paths. The paths that you’ll need to get are:\n",
    "\n",
    "(1) The Python application path, which is the folder where you originally installed Python. You can find the Python application path by following these steps:\n",
    "\n",
    "Type “Python” in the Windows Search Bar\n",
    "Right-click on the Python App, and then select “Open file location“\n",
    "Right-click again on the Python shortcut, and then select “Open file location“\n"
   ]
  },
  {
   "cell_type": "raw",
   "id": "f1451408",
   "metadata": {},
   "source": [
    "Q16: Is indentation required in Python?\n",
    "ans: yes"
   ]
  },
  {
   "cell_type": "raw",
   "id": "402cd94c",
   "metadata": {},
   "source": []
  },
  {
   "cell_type": "raw",
   "id": "01359cef",
   "metadata": {},
   "source": []
  },
  {
   "cell_type": "raw",
   "id": "0b5fb107",
   "metadata": {},
   "source": []
  },
  {
   "cell_type": "raw",
   "id": "5e6a2397",
   "metadata": {},
   "source": []
  },
  {
   "cell_type": "code",
   "execution_count": null,
   "id": "a12c1d3d",
   "metadata": {},
   "outputs": [],
   "source": []
  }
 ],
 "metadata": {
  "kernelspec": {
   "display_name": "Python 3 (ipykernel)",
   "language": "python",
   "name": "python3"
  },
  "language_info": {
   "codemirror_mode": {
    "name": "ipython",
    "version": 3
   },
   "file_extension": ".py",
   "mimetype": "text/x-python",
   "name": "python",
   "nbconvert_exporter": "python",
   "pygments_lexer": "ipython3",
   "version": "3.9.13"
  }
 },
 "nbformat": 4,
 "nbformat_minor": 5
}
