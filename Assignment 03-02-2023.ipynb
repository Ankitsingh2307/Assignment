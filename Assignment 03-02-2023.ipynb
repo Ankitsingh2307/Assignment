{
 "cells": [
  {
   "cell_type": "code",
   "execution_count": 1,
   "id": "d712d13f",
   "metadata": {},
   "outputs": [
    {
     "data": {
      "text/plain": [
       "[1, 3, 5, 7, 9, 11, 13, 15, 17, 19, 21, 23, 25]"
      ]
     },
     "execution_count": 1,
     "metadata": {},
     "output_type": "execute_result"
    }
   ],
   "source": [
    "#Q1:\n",
    "# def keywor is use to write the function\n",
    "\n",
    "l= list(range(1,26))\n",
    "\n",
    "def odd(l):\n",
    "    '''this is my function to ectract list of odd no. from the given list'''\n",
    "    l1=[]\n",
    "    for i in l :\n",
    "        if i%2!= 0:\n",
    "            l1.append(i)\n",
    "    return l1\n",
    "odd(l)"
   ]
  },
  {
   "cell_type": "code",
   "execution_count": 2,
   "id": "bb30d8b4",
   "metadata": {},
   "outputs": [],
   "source": [
    "# Q2:\n",
    "#*args is use to pass the n number of argument in side the function, \n",
    "# even args ia not the key word \"*\" is doing the work   \n",
    "\n",
    "# example of *args\n",
    "def test1(*args):\n",
    "    return args\n"
   ]
  },
  {
   "cell_type": "code",
   "execution_count": 3,
   "id": "57c06bc7",
   "metadata": {},
   "outputs": [
    {
     "data": {
      "text/plain": [
       "(1, 2, 3, 4, 5, 6)"
      ]
     },
     "execution_count": 3,
     "metadata": {},
     "output_type": "execute_result"
    }
   ],
   "source": [
    "test1(1,2,3,4,5,6)"
   ]
  },
  {
   "cell_type": "code",
   "execution_count": 4,
   "id": "d45aa348",
   "metadata": {},
   "outputs": [],
   "source": [
    "# **kwargs if the user want the output in dictanery format that is key:value for mate \n",
    "# than we use the **kwargs and it allow n number of arguments\n",
    "\n",
    "# Example\n",
    "def test2(**kwargs):\n",
    "    return kwargs\n"
   ]
  },
  {
   "cell_type": "code",
   "execution_count": 5,
   "id": "5550b69f",
   "metadata": {},
   "outputs": [
    {
     "data": {
      "text/plain": [
       "{'a': [1, 2, 3], 'b': 'sudh', 'c': 'anny'}"
      ]
     },
     "execution_count": 5,
     "metadata": {},
     "output_type": "execute_result"
    }
   ],
   "source": [
    "test2(a=[1,2,3,], b= 'sudh', c='anny')"
   ]
  },
  {
   "cell_type": "code",
   "execution_count": 6,
   "id": "5cf3a180",
   "metadata": {},
   "outputs": [
    {
     "name": "stdout",
     "output_type": "stream",
     "text": [
      "2\n",
      "4\n",
      "6\n",
      "8\n",
      "10\n"
     ]
    }
   ],
   "source": [
    "# Q3:\n",
    "\n",
    "''' Iterator in Python is an object that is used to iterate over iterable objects \n",
    "like lists, tuples, dicts, and sets. The iterator object is initialized using the \n",
    "iter() method. It uses the next() method for iteration. __next__(): The next method \n",
    "returns the next value for the iterable.'''\n",
    "\n",
    "l=[2,4,6,8,10,12,14,16,18,20]\n",
    "list= iter(l)\n",
    " \n",
    "print(next(list))\n",
    "print(next(list))\n",
    "print(next(list))\n",
    "print(next(list))\n",
    "print(next(list))"
   ]
  },
  {
   "cell_type": "code",
   "execution_count": 7,
   "id": "6f761aed",
   "metadata": {},
   "outputs": [],
   "source": [
    "# Q4:\n",
    "'''Genrator function is use to return the iterator in the sequence of vale when the iterated is over. \n",
    "Genrator is useful for pruduceing the large number of sequencial value as it does not store the data\n",
    "in to the memory''' \n",
    "\n",
    "'''yield is the special keyword which help us to create the generator function.\n",
    "The Yield keyword in Python is similar to a return statement used for returning values or objects\n",
    "in Python. However, there is a slight difference. The yield statement returns a generator object \n",
    "to the one who calls the function which contains yield, instead of simply returning a value.'''\n",
    "\n",
    "\n",
    "#example \n",
    "#creating the generator for fibanacci series\n",
    "def test_fib(n):\n",
    "    a,b= 0,1\n",
    "    for i in range(n):\n",
    "        yield a\n",
    "        a,b= b, a+b"
   ]
  },
  {
   "cell_type": "code",
   "execution_count": 8,
   "id": "019df3fb",
   "metadata": {},
   "outputs": [
    {
     "name": "stdout",
     "output_type": "stream",
     "text": [
      "0\n",
      "1\n",
      "1\n",
      "2\n",
      "3\n",
      "5\n",
      "8\n",
      "13\n",
      "21\n",
      "34\n"
     ]
    }
   ],
   "source": [
    "for i in test_fib(10):\n",
    "    print(i)"
   ]
  },
  {
   "cell_type": "code",
   "execution_count": 9,
   "id": "418b1edc",
   "metadata": {},
   "outputs": [
    {
     "name": "stdout",
     "output_type": "stream",
     "text": [
      "2\n",
      "6\n",
      "10\n",
      "14\n",
      "18\n",
      "22\n",
      "26\n",
      "30\n",
      "34\n",
      "38\n",
      "42\n",
      "46\n",
      "50\n",
      "54\n",
      "58\n",
      "62\n",
      "66\n",
      "70\n",
      "74\n",
      "78\n"
     ]
    }
   ],
   "source": [
    "#Q5:\n",
    "def test3():\n",
    "    for i in range(1000):\n",
    "        if i%2 == 0:\n",
    "            yield i\n",
    "            \n",
    "prime=iter(test3())\n",
    "count= 0\n",
    "for i in prime:\n",
    "    print(next(prime))\n",
    "    count+=1\n",
    "    if count == 20:\n",
    "        break"
   ]
  },
  {
   "cell_type": "code",
   "execution_count": 10,
   "id": "15883426",
   "metadata": {},
   "outputs": [
    {
     "name": "stdout",
     "output_type": "stream",
     "text": [
      "0\n",
      "1\n",
      "1\n",
      "2\n",
      "3\n",
      "5\n",
      "8\n",
      "13\n",
      "21\n",
      "34\n"
     ]
    }
   ],
   "source": [
    "# Q6:\n",
    "a=0\n",
    "b=1\n",
    "count=0\n",
    "while count <10:\n",
    "    print(a)\n",
    "    count+=1\n",
    "    a, b= b, a+b\n",
    "   \n",
    "    "
   ]
  },
  {
   "cell_type": "code",
   "execution_count": 11,
   "id": "f448dfd5",
   "metadata": {},
   "outputs": [
    {
     "data": {
      "text/plain": [
       "['p', 'w', 's', 'k', 'i', 'l', 'l', 's']"
      ]
     },
     "execution_count": 11,
     "metadata": {},
     "output_type": "execute_result"
    }
   ],
   "source": [
    "s= \"pwskills\"\n",
    "l1=[]\n",
    "for i in s:\n",
    "    l1.append(i)\n",
    "l1\n",
    "    "
   ]
  },
  {
   "cell_type": "code",
   "execution_count": 28,
   "id": "c8a26685",
   "metadata": {},
   "outputs": [
    {
     "name": "stdout",
     "output_type": "stream",
     "text": [
      "121\n",
      "the given number is Polindrome\n"
     ]
    }
   ],
   "source": [
    "# Q8:\n",
    "num = int(input())\n",
    "temp= num\n",
    "reversed_num = 0\n",
    "\n",
    "while (temp != 0):\n",
    "    digit = temp % 10\n",
    "    reversed_num = reversed_num * 10 + digit\n",
    "    temp = temp // 10\n",
    "\n",
    "if (num == reversed_num):\n",
    "    print(\"the given number is Polindrome\")\n",
    "else:\n",
    "    print(\"the given number is not polindrome\")\n",
    "\n"
   ]
  },
  {
   "cell_type": "code",
   "execution_count": 4,
   "id": "35bd41f2",
   "metadata": {},
   "outputs": [
    {
     "data": {
      "text/plain": [
       "[1, 3, 5, 7, 9, 11, 13, 15, 17, 19, 21, 23, 25]"
      ]
     },
     "execution_count": 4,
     "metadata": {},
     "output_type": "execute_result"
    }
   ],
   "source": [
    "l3= (range(1,100))\n",
    "l4= []\n",
    "\n",
    "for i in l:\n",
    "    if i%2!=0:\n",
    "        l4.append(i)\n",
    "l4"
   ]
  },
  {
   "cell_type": "code",
   "execution_count": null,
   "id": "a51f5f32",
   "metadata": {},
   "outputs": [],
   "source": []
  }
 ],
 "metadata": {
  "kernelspec": {
   "display_name": "Python 3 (ipykernel)",
   "language": "python",
   "name": "python3"
  },
  "language_info": {
   "codemirror_mode": {
    "name": "ipython",
    "version": 3
   },
   "file_extension": ".py",
   "mimetype": "text/x-python",
   "name": "python",
   "nbconvert_exporter": "python",
   "pygments_lexer": "ipython3",
   "version": "3.9.13"
  }
 },
 "nbformat": 4,
 "nbformat_minor": 5
}
