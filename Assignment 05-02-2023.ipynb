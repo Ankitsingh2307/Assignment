{
 "cells": [
  {
   "cell_type": "code",
   "execution_count": null,
   "id": "439c47b5",
   "metadata": {},
   "outputs": [],
   "source": [
    "#Q1\n",
    "'''class is defined as the blueprint, class is use to define some properties and the behavior of the object \n",
    "for example car is the class which has the characteristic such as wheel, interior, engine, break, etc.\n",
    "but by the help of class we cannot specify which car is this.\n",
    "An object is the instance of the class which has the properties and behavior, objects are the things you think about first \n",
    "in designing a program and they are also the units of code that are eventually derived from the process. it is also called \n",
    "as variable, example Honda city car is the object which has the class characteristic '''\n"
   ]
  },
  {
   "cell_type": "code",
   "execution_count": null,
   "id": "35ebbf38",
   "metadata": {},
   "outputs": [],
   "source": [
    "# Q2:\n",
    "# ans\n",
    "# Inheritance, Polymorphism, Encapsulation and Abstraction."
   ]
  },
  {
   "cell_type": "code",
   "execution_count": 5,
   "id": "65853989",
   "metadata": {},
   "outputs": [
    {
     "data": {
      "text/plain": [
       "'__init__ () is short for initialization. It is a constructor which getscalled when you make an instance of the class \\nand it is not necessary.\\nUse the __init__() function to assign values to object properties, or other operations that are necessary to do when \\nthe object is being created'"
      ]
     },
     "execution_count": 5,
     "metadata": {},
     "output_type": "execute_result"
    }
   ],
   "source": [
    "#Q3\n",
    "'''__init__ () is short for initialization. It is a constructor which getscalled when you make an instance of the class \n",
    "and it is not necessary.\n",
    "Use the __init__() function to assign values to object properties, or other operations that are necessary to do when \n",
    "the object is being created'''\n",
    "#Example\n",
    "# class pwskills1:\n",
    "    \n",
    "#     def __init__(self, phone_number, email_id,student_id):\n",
    "#         self.phone_number= phone_number\n",
    "#         self.email_id= email_id\n",
    "#         self.student_id= student_id\n",
    "#     def return_student_deetials(self):\n",
    "#         return self.student_id, self.phone_number,self.email_id\n",
    "    "
   ]
  },
  {
   "cell_type": "code",
   "execution_count": 6,
   "id": "3d4e5aa0",
   "metadata": {},
   "outputs": [
    {
     "data": {
      "text/plain": [
       "' self is the intance use to acces the atribute and method of the class  It works as a reference to the object.\\nPython uses the self parameter to refer to instance attributes and methods of the class'"
      ]
     },
     "execution_count": 6,
     "metadata": {},
     "output_type": "execute_result"
    }
   ],
   "source": [
    "# Q4\n",
    "''' self is the intance use to acces the atribute and method of the class  It works as a reference to the object.\n",
    "Python uses the self parameter to refer to instance attributes and methods of the class'''"
   ]
  },
  {
   "cell_type": "code",
   "execution_count": 1,
   "id": "9ee48d27",
   "metadata": {},
   "outputs": [
    {
     "ename": "SyntaxError",
     "evalue": "invalid syntax (1624090027.py, line 2)",
     "output_type": "error",
     "traceback": [
      "\u001b[1;36m  File \u001b[1;32m\"C:\\Users\\hp\\AppData\\Local\\Temp\\ipykernel_4900\\1624090027.py\"\u001b[1;36m, line \u001b[1;32m2\u001b[0m\n\u001b[1;33m    inharitance meant the one class is able to acess it's parential class , there are two type of the inharitance 1. multilevel\u001b[0m\n\u001b[1;37m                ^\u001b[0m\n\u001b[1;31mSyntaxError\u001b[0m\u001b[1;31m:\u001b[0m invalid syntax\n"
     ]
    }
   ],
   "source": [
    "# Q5\n",
    "# inharitance meant the one class is able to acess it's parential class , there are two type of the inharitance 1. multilevel \n",
    "# 2. multipel inheritance.\n",
    "\n",
    "# multilevel inheritance ;\n",
    "# in this type of the inheritance the last class has the acess to the properties and method of above all it's classes\n",
    "# (parential class), if we keep all class in the line 2nd class has the acess to the 1st class similarly the 3rd class \n",
    "# has the acess to the properties and method of both  class 1 amd 2 above it even it had just call only the 9th class ,\n",
    "# this is because the 3rd class had call 2nd class in it.\n",
    "\n"
   ]
  },
  {
   "cell_type": "code",
   "execution_count": null,
   "id": "888b4ec4",
   "metadata": {},
   "outputs": [],
   "source": [
    "# multi level inheritance "
   ]
  },
  {
   "cell_type": "code",
   "execution_count": 10,
   "id": "34597f6f",
   "metadata": {},
   "outputs": [],
   "source": [
    "# class class1:\n",
    "    \n",
    "#     def test_class1(self):\n",
    "#         return \"this is a method from class1\""
   ]
  },
  {
   "cell_type": "code",
   "execution_count": 11,
   "id": "20537a47",
   "metadata": {},
   "outputs": [],
   "source": [
    "# class class2(class1):\n",
    "#     def test_class2(self):\n",
    "#         return \"this is the method from class2\""
   ]
  },
  {
   "cell_type": "code",
   "execution_count": 18,
   "id": "32888619",
   "metadata": {},
   "outputs": [],
   "source": [
    "# class class3(class2):\n",
    "#     pass"
   ]
  },
  {
   "cell_type": "code",
   "execution_count": 2,
   "id": "300ca5e7",
   "metadata": {},
   "outputs": [],
   "source": [
    "# multipel inheritance;\n",
    "#     In this type of inheritance the tow or more class which don't hat inter relation but the other 3rd class had the\n",
    "#     acess to the both class1 and class2 , similarly one class can had the acess to the many class just by calling in it.\n",
    "    \n",
    "#     Example"
   ]
  },
  {
   "cell_type": "code",
   "execution_count": null,
   "id": "6931f8d5",
   "metadata": {},
   "outputs": [],
   "source": [
    "## multiple inheritance\n",
    "\n",
    "# class class1:\n",
    "#     def test_class1(self):\n",
    "#         return \"this is class1 \"\n",
    "\n"
   ]
  },
  {
   "cell_type": "code",
   "execution_count": null,
   "id": "6adc9d9a",
   "metadata": {},
   "outputs": [],
   "source": [
    "# class class2:\n",
    "#     def test_class2(self):\n",
    "#         return \"this is class2 \"\n",
    "\n"
   ]
  },
  {
   "cell_type": "code",
   "execution_count": 3,
   "id": "5acacc25",
   "metadata": {},
   "outputs": [
    {
     "ename": "NameError",
     "evalue": "name 'class1' is not defined",
     "output_type": "error",
     "traceback": [
      "\u001b[1;31m---------------------------------------------------------------------------\u001b[0m",
      "\u001b[1;31mNameError\u001b[0m                                 Traceback (most recent call last)",
      "\u001b[1;32m~\\AppData\\Local\\Temp\\ipykernel_4900\\1276429353.py\u001b[0m in \u001b[0;36m<module>\u001b[1;34m\u001b[0m\n\u001b[1;32m----> 1\u001b[1;33m \u001b[1;32mclass\u001b[0m \u001b[0mclass3\u001b[0m\u001b[1;33m(\u001b[0m\u001b[0mclass1\u001b[0m\u001b[1;33m,\u001b[0m \u001b[0mclass2\u001b[0m\u001b[1;33m)\u001b[0m\u001b[1;33m:\u001b[0m\u001b[1;33m\u001b[0m\u001b[1;33m\u001b[0m\u001b[0m\n\u001b[0m\u001b[0;32m      2\u001b[0m     \u001b[1;32mpass\u001b[0m\u001b[1;33m\u001b[0m\u001b[1;33m\u001b[0m\u001b[0m\n\u001b[0;32m      3\u001b[0m \u001b[1;33m\u001b[0m\u001b[0m\n\u001b[0;32m      4\u001b[0m \u001b[0mobj_class\u001b[0m\u001b[1;33m=\u001b[0m \u001b[0mclass3\u001b[0m\u001b[1;33m(\u001b[0m\u001b[1;33m)\u001b[0m\u001b[1;33m\u001b[0m\u001b[1;33m\u001b[0m\u001b[0m\n",
      "\u001b[1;31mNameError\u001b[0m: name 'class1' is not defined"
     ]
    }
   ],
   "source": [
    "# class class3(class1, class2):\n",
    "#     pass\n",
    "\n"
   ]
  },
  {
   "cell_type": "code",
   "execution_count": null,
   "id": "8a9d27d1",
   "metadata": {},
   "outputs": [],
   "source": [
    "# obj_class= class3()"
   ]
  }
 ],
 "metadata": {
  "kernelspec": {
   "display_name": "Python 3 (ipykernel)",
   "language": "python",
   "name": "python3"
  },
  "language_info": {
   "codemirror_mode": {
    "name": "ipython",
    "version": 3
   },
   "file_extension": ".py",
   "mimetype": "text/x-python",
   "name": "python",
   "nbconvert_exporter": "python",
   "pygments_lexer": "ipython3",
   "version": "3.9.13"
  }
 },
 "nbformat": 4,
 "nbformat_minor": 5
}
