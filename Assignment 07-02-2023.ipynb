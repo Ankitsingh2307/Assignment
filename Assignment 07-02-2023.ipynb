{
 "cells": [
  {
   "cell_type": "code",
   "execution_count": 1,
   "id": "b8e0f547",
   "metadata": {},
   "outputs": [],
   "source": [
    "# Q1:\n",
    "def password():\n",
    "    p= input(\"enter your password: \")\n",
    "    upper=[]\n",
    "    lower=[]\n",
    "    special=[]\n",
    "    Int1=[]\n",
    "    u,l,s,I=0,0,0,0\n",
    "    if len(p)>=10:\n",
    "        for i in p:\n",
    "            if i.isupper():\n",
    "                upper.append(i)\n",
    "                if len(upper)>=1:\n",
    "                    u+=1\n",
    "                    \n",
    "        for i in p:\n",
    "            if i.islower():\n",
    "                lower.append(i)\n",
    "                if len(lower)>=1:\n",
    "                    l+=1\n",
    "                    \n",
    "        for i in p:\n",
    "            if i.isdigit():\n",
    "                Int1.append(i)\n",
    "                if len(Int1)>=1:\n",
    "                    I+=1\n",
    "                             \n",
    "        for i in p:\n",
    "            specialcar=[ \"!\",'#','$','%','&','(',')','*','+','-','.','/',':',';','<','=','>','?','@','[','\\' ,{','|','}','~',\"_\",\"]\",\"^\"]\n",
    "            if i in specialcar:\n",
    "                special.append(i)\n",
    "                if len(special)>=1:\n",
    "                    s+=1\n",
    "                   \n",
    "            \n",
    "        if u>=2 and l>=2 and s>=3 and I>=1 and u+l+s+I== len(p):\n",
    "            print(\"password is valid: \" ,p)\n",
    "        \n",
    "    else:\n",
    "        print(\"password is invalid: \" ,p)\n",
    "        "
   ]
  },
  {
   "cell_type": "code",
   "execution_count": 2,
   "id": "01df994d",
   "metadata": {},
   "outputs": [
    {
     "name": "stdout",
     "output_type": "stream",
     "text": [
      "enter your password: AAzz12!@#$\n",
      "password is valid:  AAzz12!@#$\n"
     ]
    }
   ],
   "source": [
    "password()"
   ]
  },
  {
   "cell_type": "code",
   "execution_count": 2,
   "id": "37060718",
   "metadata": {},
   "outputs": [
    {
     "name": "stdout",
     "output_type": "stream",
     "text": [
      "True\n"
     ]
    }
   ],
   "source": [
    "# Q2:\n",
    "# a): Check if the string starts with a particular letter\n",
    "# Ans:\n",
    "p= input('check wether the the strint start with (w) or not')\n",
    "startwith = lambda p: True if p[0]==\"w\" else False\n",
    "startwith(p)"
   ]
  },
  {
   "cell_type": "code",
   "execution_count": 17,
   "id": "8a830d1f",
   "metadata": {},
   "outputs": [
    {
     "data": {
      "text/plain": [
       "'the given sting is numeric'"
      ]
     },
     "execution_count": 17,
     "metadata": {},
     "output_type": "execute_result"
    }
   ],
   "source": [
    "# b): check if the string is numeric.\n",
    "# Ans:\n",
    "n= '45454'\n",
    "numtest= lambda n:'the given sting is numeric' if n.isnumeric() else False\n",
    "\n",
    "numtest(n)\n",
    "\n",
    "    "
   ]
  },
  {
   "cell_type": "code",
   "execution_count": 21,
   "id": "9852c66e",
   "metadata": {},
   "outputs": [
    {
     "data": {
      "text/plain": [
       "[('orange', 80), ('manggo', 99), ('grapes', 1000)]"
      ]
     },
     "execution_count": 21,
     "metadata": {},
     "output_type": "execute_result"
    }
   ],
   "source": [
    "# c): sort the list of tupel having fruit name and their quantity\n",
    "\n",
    "l= [('manggo',99),('orange',80),('grapes',1000)]\n",
    "\n",
    "l.sort(key=lambda l: l[1])\n",
    "\n",
    "l"
   ]
  },
  {
   "cell_type": "code",
   "execution_count": 35,
   "id": "566b2452",
   "metadata": {},
   "outputs": [
    {
     "data": {
      "text/plain": [
       "[1, 4, 9, 16, 25, 36, 49, 64, 81, 100]"
      ]
     },
     "execution_count": 35,
     "metadata": {},
     "output_type": "execute_result"
    }
   ],
   "source": [
    "# d): Find the square  of the number from 1 to 10\n",
    "l1= list(range(1,11))\n",
    "square=list(map(lambda x: x**2,l1))\n",
    "\n",
    "square"
   ]
  },
  {
   "cell_type": "code",
   "execution_count": 46,
   "id": "b09b07a0",
   "metadata": {},
   "outputs": [
    {
     "data": {
      "text/plain": [
       "[1.0,\n",
       " 1.2599210498948732,\n",
       " 1.4422495703074083,\n",
       " 1.5874010519681994,\n",
       " 1.7099759466766968,\n",
       " 1.8171205928321397,\n",
       " 1.912931182772389,\n",
       " 2.0,\n",
       " 2.080083823051904,\n",
       " 2.154434690031884]"
      ]
     },
     "execution_count": 46,
     "metadata": {},
     "output_type": "execute_result"
    }
   ],
   "source": [
    "# e): Find the cube root of the number from 1 to 10\n",
    "l1= list(range(1,11))\n",
    "square=list(map(lambda x: x**(1/3),l1))\n",
    "\n",
    "square\n"
   ]
  },
  {
   "cell_type": "code",
   "execution_count": 62,
   "id": "ec0b8525",
   "metadata": {},
   "outputs": [
    {
     "name": "stdout",
     "output_type": "stream",
     "text": [
      "Enter the number: 4\n"
     ]
    },
    {
     "data": {
      "text/plain": [
       "'the given number is even'"
      ]
     },
     "execution_count": 62,
     "metadata": {},
     "output_type": "execute_result"
    }
   ],
   "source": [
    "# f): check the given number is even.\n",
    "output= lambda x: 'the given number is even' if x%2==0 else 'the given number is odd'\n",
    "num= output(int(input('Enter the number: ')))\n",
    "num"
   ]
  },
  {
   "cell_type": "code",
   "execution_count": 74,
   "id": "281ef512",
   "metadata": {},
   "outputs": [
    {
     "data": {
      "text/plain": [
       "[1, 3, 5, 7, 9]"
      ]
     },
     "execution_count": 74,
     "metadata": {},
     "output_type": "execute_result"
    }
   ],
   "source": [
    "# g):Filter odd number from the given list\n",
    "l= [1,2,3,4,5,6,7,8,9,10]\n",
    "list(filter(lambda x:x%2!=0, l))\n"
   ]
  },
  {
   "cell_type": "code",
   "execution_count": 82,
   "id": "6bd39e7e",
   "metadata": {},
   "outputs": [
    {
     "name": "stdout",
     "output_type": "stream",
     "text": [
      "[-5, -4, -3, -2, -1]\n",
      "[0, 1, 2, 3, 4, 5, 6]\n"
     ]
    }
   ],
   "source": [
    "# h): Sort a list of integer in to positive and negative integer lists.\n",
    "l2= [1,2,3,4,5,6,-1,-2,-3,-4,-5,0]\n",
    "ln=[]\n",
    "lp=[]\n",
    "\n",
    "for i in l2:\n",
    "    if i<0:\n",
    "        ln.append(i)\n",
    "        ln.sort()\n",
    "    if i>=0:\n",
    "        lp.append(i)\n",
    "        lp.sort()\n",
    "print(ln)\n",
    "print(lp)\n",
    "\n"
   ]
  },
  {
   "cell_type": "code",
   "execution_count": null,
   "id": "41c39358",
   "metadata": {},
   "outputs": [],
   "source": []
  },
  {
   "cell_type": "code",
   "execution_count": null,
   "id": "e77b54a3",
   "metadata": {},
   "outputs": [],
   "source": []
  }
 ],
 "metadata": {
  "kernelspec": {
   "display_name": "Python 3 (ipykernel)",
   "language": "python",
   "name": "python3"
  },
  "language_info": {
   "codemirror_mode": {
    "name": "ipython",
    "version": 3
   },
   "file_extension": ".py",
   "mimetype": "text/x-python",
   "name": "python",
   "nbconvert_exporter": "python",
   "pygments_lexer": "ipython3",
   "version": "3.9.13"
  }
 },
 "nbformat": 4,
 "nbformat_minor": 5
}
